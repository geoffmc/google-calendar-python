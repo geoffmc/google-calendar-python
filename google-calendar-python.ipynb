{
 "cells": [
  {
   "cell_type": "code",
   "execution_count": 25,
   "metadata": {},
   "outputs": [],
   "source": [
    "from datetime import datetime, timedelta\n",
    "import pickle\n",
    "import os.path\n",
    "from googleapiclient.discovery import build\n",
    "from google_auth_oauthlib.flow import InstalledAppFlow\n",
    "from oauth2client.service_account import ServiceAccountCredentials\n",
    "from google.auth.transport.requests import Request\n",
    "\n",
    "SCOPES = ['https://www.googleapis.com/auth/calendar.events']\n",
    "SERVICE_ACCOUNT_KEY = 'PLACEHOLDER.json'\n",
    "CALENDAR_ID = 'PLACEHOLDER@group.calendar.google.com'\n",
    "\n",
    "COLOR_IDS = {\n",
    "    'lodge': 11,\n",
    "    'gh': 10,\n",
    "    'fh': 9\n",
    "}"
   ]
  },
  {
   "cell_type": "code",
   "execution_count": 26,
   "metadata": {},
   "outputs": [],
   "source": [
    "# Create a service account in GCP, share the calendar with the corresponding email address.\n",
    "# Setup credentials\n",
    "creds = ServiceAccountCredentials.from_json_keyfile_name(\n",
    "  SERVICE_ACCOUNT_KEY,\n",
    "  scopes=SCOPES)\n",
    "\n",
    "service = build('calendar', 'v3', credentials=creds)"
   ]
  },
  {
   "cell_type": "code",
   "execution_count": 27,
   "metadata": {},
   "outputs": [
    {
     "name": "stdout",
     "output_type": "stream",
     "text": [
      "Getting the upcoming 10 events\n",
      "2020-11-28T12:41:28-05:00 Google I/O 2015\n",
      "2020-11-28T16:00:00-05:00 Name 1 & Name 2 - LODGE\n",
      "2020-11-28T16:00:00-05:00 Name 1 & Name 2 - Inn\n",
      "2020-11-28T16:00:00-05:00 Name 1 & Name 2 - GH\n"
     ]
    }
   ],
   "source": [
    "# List 10 Events\n",
    "now = datetime.utcnow().isoformat() + 'Z' # 'Z' indicates UTC time\n",
    "print('Getting the upcoming 10 events')\n",
    "events_result = service.events().list(calendarId=CALENDAR_ID, timeMin=now,\n",
    "                                    maxResults=10, singleEvents=True,\n",
    "                                    orderBy='startTime').execute()\n",
    "events = events_result.get('items', [])\n",
    "\n",
    "if not events:\n",
    "    print('No upcoming events found.')\n",
    "for event in events:\n",
    "    start = event['start'].get('dateTime', event['start'].get('date'))\n",
    "    print(start, event['summary'])"
   ]
  },
  {
   "cell_type": "code",
   "execution_count": 28,
   "metadata": {},
   "outputs": [
    {
     "name": "stdout",
     "output_type": "stream",
     "text": [
      "Event created: 3vvbfluhje6iug9tj3rttlcsbg\n"
     ]
    }
   ],
   "source": [
    "# Create new event\n",
    "now = datetime.utcnow()\n",
    "start = {\"dateTime\" : (now + timedelta(hours=1)).isoformat() + 'Z'}\n",
    "end = {\"dateTime\" : (now + timedelta(hours=5)).isoformat() + 'Z'}\n",
    "\n",
    "event = {\n",
    "  'summary': 'Google I/O 2015',\n",
    "  'location': '800 Howard St., San Francisco, CA 94103',\n",
    "  'description': 'A chance to hear more about Google\\'s developer products.',\n",
    "  'colorId': COLOR_IDS['gh'],\n",
    "  'start': start,\n",
    "  'end': end,\n",
    "}\n",
    "\n",
    "event = service.events().insert(calendarId=CALENDAR_ID, body=event).execute()\n",
    "print('Event created: ' + event.get('id'))"
   ]
  },
  {
   "cell_type": "code",
   "execution_count": null,
   "metadata": {},
   "outputs": [],
   "source": []
  }
 ],
 "metadata": {
  "environment": {
   "name": "tf2-2-3-gpu.2-3.m59",
   "type": "gcloud",
   "uri": "gcr.io/deeplearning-platform-release/tf2-2-3-gpu.2-3:m59"
  },
  "kernelspec": {
   "display_name": "Python 3",
   "language": "python",
   "name": "python3"
  },
  "language_info": {
   "codemirror_mode": {
    "name": "ipython",
    "version": 3
   },
   "file_extension": ".py",
   "mimetype": "text/x-python",
   "name": "python",
   "nbconvert_exporter": "python",
   "pygments_lexer": "ipython3",
   "version": "3.7.8"
  }
 },
 "nbformat": 4,
 "nbformat_minor": 4
}
